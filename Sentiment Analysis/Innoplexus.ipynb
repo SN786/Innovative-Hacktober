{
 "cells": [
  {
   "cell_type": "code",
   "execution_count": 1,
   "metadata": {},
   "outputs": [],
   "source": [
    "import pandas as pd\n",
    "import numpy as np\n",
    "import seaborn as sns\n",
    "import matplotlib.pyplot as plt\n",
    "%matplotlib inline\n",
    "import warnings\n",
    "warnings.filterwarnings('ignore')\n",
    "import nltk\n",
    "import string"
   ]
  },
  {
   "cell_type": "code",
   "execution_count": 3,
   "metadata": {},
   "outputs": [],
   "source": [
    "train = pd.read_csv(\"train_F3WbcTw.csv\")\n",
    "test = pd.read_csv(\"test_tOlRoBf.csv\")"
   ]
  },
  {
   "cell_type": "code",
   "execution_count": 4,
   "metadata": {},
   "outputs": [],
   "source": [
    "train_original=train.copy()\n",
    "test_original=test.copy()"
   ]
  },
  {
   "cell_type": "code",
   "execution_count": 5,
   "metadata": {},
   "outputs": [
    {
     "data": {
      "text/plain": [
       "(8203, 4)"
      ]
     },
     "execution_count": 5,
     "metadata": {},
     "output_type": "execute_result"
    }
   ],
   "source": [
    "combi = train.append(test, ignore_index=True)\n",
    "combi.shape"
   ]
  },
  {
   "cell_type": "code",
   "execution_count": 6,
   "metadata": {},
   "outputs": [
    {
     "name": "stdout",
     "output_type": "stream",
     "text": [
      "<class 'pandas.core.frame.DataFrame'>\n",
      "RangeIndex: 5279 entries, 0 to 5278\n",
      "Data columns (total 4 columns):\n",
      "unique_hash    5279 non-null object\n",
      "text           5279 non-null object\n",
      "drug           5279 non-null object\n",
      "sentiment      5279 non-null int64\n",
      "dtypes: int64(1), object(3)\n",
      "memory usage: 165.0+ KB\n"
     ]
    }
   ],
   "source": [
    "train.info()"
   ]
  },
  {
   "cell_type": "code",
   "execution_count": 7,
   "metadata": {},
   "outputs": [
    {
     "name": "stdout",
     "output_type": "stream",
     "text": [
      "<class 'pandas.core.frame.DataFrame'>\n",
      "RangeIndex: 2924 entries, 0 to 2923\n",
      "Data columns (total 3 columns):\n",
      "unique_hash    2924 non-null object\n",
      "text           2924 non-null object\n",
      "drug           2924 non-null object\n",
      "dtypes: object(3)\n",
      "memory usage: 68.6+ KB\n"
     ]
    }
   ],
   "source": [
    "test.info()"
   ]
  },
  {
   "cell_type": "code",
   "execution_count": 8,
   "metadata": {},
   "outputs": [
    {
     "data": {
      "text/html": [
       "<div>\n",
       "<style scoped>\n",
       "    .dataframe tbody tr th:only-of-type {\n",
       "        vertical-align: middle;\n",
       "    }\n",
       "\n",
       "    .dataframe tbody tr th {\n",
       "        vertical-align: top;\n",
       "    }\n",
       "\n",
       "    .dataframe thead tr th {\n",
       "        text-align: left;\n",
       "    }\n",
       "\n",
       "    .dataframe thead tr:last-of-type th {\n",
       "        text-align: right;\n",
       "    }\n",
       "</style>\n",
       "<table border=\"1\" class=\"dataframe\">\n",
       "  <thead>\n",
       "    <tr>\n",
       "      <th></th>\n",
       "      <th colspan=\"4\" halign=\"left\">drug</th>\n",
       "      <th colspan=\"4\" halign=\"left\">text</th>\n",
       "      <th colspan=\"4\" halign=\"left\">unique_hash</th>\n",
       "    </tr>\n",
       "    <tr>\n",
       "      <th></th>\n",
       "      <th>count</th>\n",
       "      <th>unique</th>\n",
       "      <th>top</th>\n",
       "      <th>freq</th>\n",
       "      <th>count</th>\n",
       "      <th>unique</th>\n",
       "      <th>top</th>\n",
       "      <th>freq</th>\n",
       "      <th>count</th>\n",
       "      <th>unique</th>\n",
       "      <th>top</th>\n",
       "      <th>freq</th>\n",
       "    </tr>\n",
       "    <tr>\n",
       "      <th>sentiment</th>\n",
       "      <th></th>\n",
       "      <th></th>\n",
       "      <th></th>\n",
       "      <th></th>\n",
       "      <th></th>\n",
       "      <th></th>\n",
       "      <th></th>\n",
       "      <th></th>\n",
       "      <th></th>\n",
       "      <th></th>\n",
       "      <th></th>\n",
       "      <th></th>\n",
       "    </tr>\n",
       "  </thead>\n",
       "  <tbody>\n",
       "    <tr>\n",
       "      <th>0.0</th>\n",
       "      <td>617</td>\n",
       "      <td>57</td>\n",
       "      <td>ocrevus</td>\n",
       "      <td>112</td>\n",
       "      <td>617</td>\n",
       "      <td>617</td>\n",
       "      <td>@hamdog , it’s a choice between a pill, that y...</td>\n",
       "      <td>1</td>\n",
       "      <td>617</td>\n",
       "      <td>617</td>\n",
       "      <td>25c3e2e69e9c3fdb6d86d6f123ce111e695ccf3e</td>\n",
       "      <td>1</td>\n",
       "    </tr>\n",
       "    <tr>\n",
       "      <th>1.0</th>\n",
       "      <td>837</td>\n",
       "      <td>54</td>\n",
       "      <td>gilenya</td>\n",
       "      <td>236</td>\n",
       "      <td>837</td>\n",
       "      <td>837</td>\n",
       "      <td>I recently changed from Gilenya to Tysabri due...</td>\n",
       "      <td>1</td>\n",
       "      <td>837</td>\n",
       "      <td>837</td>\n",
       "      <td>a5b937ffb4d7bf33239cda85fc0436541084f2d6</td>\n",
       "      <td>1</td>\n",
       "    </tr>\n",
       "    <tr>\n",
       "      <th>2.0</th>\n",
       "      <td>3825</td>\n",
       "      <td>97</td>\n",
       "      <td>ocrevus</td>\n",
       "      <td>455</td>\n",
       "      <td>3825</td>\n",
       "      <td>3727</td>\n",
       "      <td>The  lungs are a pair of cone-shaped breathing...</td>\n",
       "      <td>3</td>\n",
       "      <td>3825</td>\n",
       "      <td>3825</td>\n",
       "      <td>316591c31fc120d540b961d4dbe9343bf670b0c1</td>\n",
       "      <td>1</td>\n",
       "    </tr>\n",
       "  </tbody>\n",
       "</table>\n",
       "</div>"
      ],
      "text/plain": [
       "           drug                       text         \\\n",
       "          count unique      top freq count unique   \n",
       "sentiment                                           \n",
       "0.0         617     57  ocrevus  112   617    617   \n",
       "1.0         837     54  gilenya  236   837    837   \n",
       "2.0        3825     97  ocrevus  455  3825   3727   \n",
       "\n",
       "                                                                  unique_hash  \\\n",
       "                                                         top freq       count   \n",
       "sentiment                                                                       \n",
       "0.0        @hamdog , it’s a choice between a pill, that y...    1         617   \n",
       "1.0        I recently changed from Gilenya to Tysabri due...    1         837   \n",
       "2.0        The  lungs are a pair of cone-shaped breathing...    3        3825   \n",
       "\n",
       "                                                                 \n",
       "          unique                                       top freq  \n",
       "sentiment                                                        \n",
       "0.0          617  25c3e2e69e9c3fdb6d86d6f123ce111e695ccf3e    1  \n",
       "1.0          837  a5b937ffb4d7bf33239cda85fc0436541084f2d6    1  \n",
       "2.0         3825  316591c31fc120d540b961d4dbe9343bf670b0c1    1  "
      ]
     },
     "execution_count": 8,
     "metadata": {},
     "output_type": "execute_result"
    }
   ],
   "source": [
    "combi.groupby('sentiment').describe()"
   ]
  },
  {
   "cell_type": "code",
   "execution_count": 9,
   "metadata": {},
   "outputs": [],
   "source": [
    "combi['length']=combi['text'].apply(len)"
   ]
  },
  {
   "cell_type": "code",
   "execution_count": 10,
   "metadata": {},
   "outputs": [
    {
     "data": {
      "text/html": [
       "<div>\n",
       "<style scoped>\n",
       "    .dataframe tbody tr th:only-of-type {\n",
       "        vertical-align: middle;\n",
       "    }\n",
       "\n",
       "    .dataframe tbody tr th {\n",
       "        vertical-align: top;\n",
       "    }\n",
       "\n",
       "    .dataframe thead th {\n",
       "        text-align: right;\n",
       "    }\n",
       "</style>\n",
       "<table border=\"1\" class=\"dataframe\">\n",
       "  <thead>\n",
       "    <tr style=\"text-align: right;\">\n",
       "      <th></th>\n",
       "      <th>drug</th>\n",
       "      <th>sentiment</th>\n",
       "      <th>text</th>\n",
       "      <th>unique_hash</th>\n",
       "      <th>length</th>\n",
       "    </tr>\n",
       "  </thead>\n",
       "  <tbody>\n",
       "    <tr>\n",
       "      <th>0</th>\n",
       "      <td>gilenya</td>\n",
       "      <td>2.0</td>\n",
       "      <td>Autoimmune diseases tend to come in clusters. ...</td>\n",
       "      <td>2e180be4c9214c1f5ab51fd8cc32bc80c9f612e0</td>\n",
       "      <td>404</td>\n",
       "    </tr>\n",
       "    <tr>\n",
       "      <th>1</th>\n",
       "      <td>gilenya</td>\n",
       "      <td>2.0</td>\n",
       "      <td>I can completely understand why you’d want to ...</td>\n",
       "      <td>9eba8f80e7e20f3a2f48685530748fbfa95943e4</td>\n",
       "      <td>1184</td>\n",
       "    </tr>\n",
       "    <tr>\n",
       "      <th>2</th>\n",
       "      <td>fingolimod</td>\n",
       "      <td>2.0</td>\n",
       "      <td>Interesting that it only targets S1P-1/5 recep...</td>\n",
       "      <td>fe809672251f6bd0d986e00380f48d047c7e7b76</td>\n",
       "      <td>780</td>\n",
       "    </tr>\n",
       "    <tr>\n",
       "      <th>3</th>\n",
       "      <td>ocrevus</td>\n",
       "      <td>2.0</td>\n",
       "      <td>Very interesting, grand merci. Now I wonder wh...</td>\n",
       "      <td>bd22104dfa9ec80db4099523e03fae7a52735eb6</td>\n",
       "      <td>124</td>\n",
       "    </tr>\n",
       "    <tr>\n",
       "      <th>4</th>\n",
       "      <td>gilenya</td>\n",
       "      <td>1.0</td>\n",
       "      <td>Hi everybody, My latest MRI results for Brain ...</td>\n",
       "      <td>b227688381f9b25e5b65109dd00f7f895e838249</td>\n",
       "      <td>612</td>\n",
       "    </tr>\n",
       "  </tbody>\n",
       "</table>\n",
       "</div>"
      ],
      "text/plain": [
       "         drug  sentiment                                               text  \\\n",
       "0     gilenya        2.0  Autoimmune diseases tend to come in clusters. ...   \n",
       "1     gilenya        2.0  I can completely understand why you’d want to ...   \n",
       "2  fingolimod        2.0  Interesting that it only targets S1P-1/5 recep...   \n",
       "3     ocrevus        2.0  Very interesting, grand merci. Now I wonder wh...   \n",
       "4     gilenya        1.0  Hi everybody, My latest MRI results for Brain ...   \n",
       "\n",
       "                                unique_hash  length  \n",
       "0  2e180be4c9214c1f5ab51fd8cc32bc80c9f612e0     404  \n",
       "1  9eba8f80e7e20f3a2f48685530748fbfa95943e4    1184  \n",
       "2  fe809672251f6bd0d986e00380f48d047c7e7b76     780  \n",
       "3  bd22104dfa9ec80db4099523e03fae7a52735eb6     124  \n",
       "4  b227688381f9b25e5b65109dd00f7f895e838249     612  "
      ]
     },
     "execution_count": 10,
     "metadata": {},
     "output_type": "execute_result"
    }
   ],
   "source": [
    "combi.head()"
   ]
  },
  {
   "cell_type": "code",
   "execution_count": 15,
   "metadata": {},
   "outputs": [
    {
     "data": {
      "text/plain": [
       "<matplotlib.axes._subplots.AxesSubplot at 0xc2e4128>"
      ]
     },
     "execution_count": 15,
     "metadata": {},
     "output_type": "execute_result"
    },
    {
     "data": {
      "image/png": "[encoded data removed]",
      "text/plain": [
       "<Figure size 432x288 with 1 Axes>"
      ]
     },
     "metadata": {},
     "output_type": "display_data"
    }
   ],
   "source": [
    "combi['length'].plot(kind='hist') "
   ]
  },
  {
   "cell_type": "code",
   "execution_count": 17,
   "metadata": {},
   "outputs": [
    {
     "data": {
      "text/plain": [
       "array([[<matplotlib.axes._subplots.AxesSubplot object at 0x000000000C50F1D0>,\n",
       "        <matplotlib.axes._subplots.AxesSubplot object at 0x000000000C531080>],\n",
       "       [<matplotlib.axes._subplots.AxesSubplot object at 0x000000000C559710>,\n",
       "        <matplotlib.axes._subplots.AxesSubplot object at 0x000000000C57EDA0>]],\n",
       "      dtype=object)"
      ]
     },
     "execution_count": 17,
     "metadata": {},
     "output_type": "execute_result"
    },
    {
     "data": {
      "image/png": "[encoded data removed]",
      "text/plain": [
       "<Figure size 864x576 with 4 Axes>"
      ]
     },
     "metadata": {},
     "output_type": "display_data"
    }
   ],
   "source": [
    "combi.hist(column='length', by='sentiment',figsize=(12,8))"
   ]
  },
  {
   "cell_type": "code",
   "execution_count": 18,
   "metadata": {},
   "outputs": [],
   "source": [
    "from nltk.corpus import stopwords"
   ]
  },
  {
   "cell_type": "code",
   "execution_count": 19,
   "metadata": {},
   "outputs": [],
   "source": [
    "def text_process(mess):\n",
    "    \"\"\"\n",
    "    Takes in a string of text, then performs the following:\n",
    "    1. Remove all punctuation\n",
    "    2. Remove all stopwords\n",
    "    3. Returns a list of the cleaned text\n",
    "    \"\"\"\n",
    "    # Check characters to see if they are in punctuation\n",
    "    nopunc = [char for char in mess if char not in string.punctuation]\n",
    "\n",
    "    # Join the characters again to form the string.\n",
    "    nopunc = ''.join(nopunc)\n",
    "    \n",
    "    # Now just remove any stopwords\n",
    "    return [word for word in nopunc.split() if word.lower() not in stopwords.words('english')]"
   ]
  },
  {
   "cell_type": "code",
   "execution_count": 20,
   "metadata": {},
   "outputs": [
    {
     "data": {
      "text/plain": [
       "0       [Autoimmune, diseases, tend, come, clusters, G...\n",
       "1       [completely, understand, you’d, want, try, res...\n",
       "2       [Interesting, targets, S1P15, receptors, rathe...\n",
       "3       [interesting, grand, merci, wonder, lemtrada, ...\n",
       "4       [Hi, everybody, latest, MRI, results, Brain, C...\n",
       "5       [can’t, give, advice, Lemtrada, chose, Cladrib...\n",
       "6       [Reply, posted, JessZidek, Hi, Jess, Sorry, re...\n",
       "7       [Well, expected, Neurologist, wants, start, Ty...\n",
       "8       [think, FIngolimod, miserable, failure, progre...\n",
       "9       [Thank, much…I’m, learning, lot, GRACE, mentio...\n",
       "10      [vision, one, eye, unrelated, eye, injections,...\n",
       "11      [significant, bleeding, right, eye, need, lase...\n",
       "12      [Objective, review, evidence, supporting, Euro...\n",
       "13      [Multiple, sclerosis, MS, thought, inflammator...\n",
       "14      [Mom’s, diagnosis, similar, Mine, detected, Ja...\n",
       "15      [Humira, adalimumab, injectable, protein, anti...\n",
       "16      [Well, theory, GI, telling, accurate, standard...\n",
       "17      [goodness, Minnie, really, wish, could, use, c...\n",
       "18      [Sebastian, agreed, entirely, know, Alemtuzuma...\n",
       "19      [Good, luck, Reg, days, ago, went, listen, top...\n",
       "20      [BMC, Ophthalmol, 2019, Jan, 81918, Intravitre...\n",
       "21      [father, EGFR, exon, 20, insertion, mutation, ...\n",
       "22      [Reply, posted, flower, girl, Hi, years, got, ...\n",
       "23      [Hello, Snigdha, father, diagnosed, lung, canc...\n",
       "24      [first, 3, recommended, Stanford, oncologist, ...\n",
       "25      [mention, 8, recent, developments, 25, issues,...\n",
       "26      [course, shortly, posted, everything, good, up...\n",
       "27      [Rituxan, main, MS, drug, Rituxan, technically...\n",
       "28      [Last, Updated, January, 01, 2017, Share, Comm...\n",
       "29      [Hi, rebif, year, –, rotate, injection, sites,...\n",
       "                              ...                        \n",
       "8173    [mlgilber1, –, long, take, started, noticing, ...\n",
       "8174    [Hi, watsoncraig, …, would, suggest, researchi...\n",
       "8175    [Hi, wanted, bring, post, back, discussion, ny...\n",
       "8176    [Hi, lamn, hope, mom, well, tagrisso, long, ti...\n",
       "8177    [Hi, currently, receiving, adjuvant, chemother...\n",
       "8178    [mechanisms, different, targets, different, Ke...\n",
       "8179    [Hi, Ang, Plegridy, kind, beta, interferon, Av...\n",
       "8180    [Multicenter, observational, French, study, co...\n",
       "8181    [Mom, PETCT, yesterday, showed, mets, liver, l...\n",
       "8182    [Natalie, asks, Barry, people, looking, ECTRIM...\n",
       "8183    [mother, diagnosed, stage, 4, locally, advance...\n",
       "8184    [Im, back, hospital, looking, likely, fail, Re...\n",
       "8185    [2018, year, substantial, progress, multiple, ...\n",
       "8186    [Mom, first, round, keytruda, yesterday, said,...\n",
       "8187    [US, Inflectra, Ixifi, Remicade, Renflexis, Av...\n",
       "8188    [1, US, Food, Drug, Administration, FDA, appro...\n",
       "8189    [Home, », MS, Information, », Publications, »,...\n",
       "8190    [Oral, BG00012, fumaric, acid, ester, studied,...\n",
       "8191    [subgroups, progressive, MS, treated, Dr, Xavi...\n",
       "8192    [Hi, Looking, big, advice, Ive, MS, since, 200...\n",
       "8193    [Hello, Dr, Creelan, thank, reply, Since, don’...\n",
       "8194    [mother, participated, trial, Pebroluzimab, Ju...\n",
       "8195    [diagnosed, crohns, disease, 2005, two, bowel,...\n",
       "8196    [Hi, diagnosed, Monday, Lupus, told, Rheumy, t...\n",
       "8197    [Hi, sick, recently, think, flu, took, care, d...\n",
       "8198    [Reply, posted, Hippopostrous, sorry, read, da...\n",
       "8199    [Aw, Lorraine, Thats, crap, shame, youve, stop...\n",
       "8200    [jskozio14, sounds, like, nonsense, Experiment...\n",
       "8201    [sounds, like, youre, well, FG, wouldnt, worri...\n",
       "8202    [Hi, rambles, It’s, hard, decision, isn’t, neu...\n",
       "Name: text, Length: 8203, dtype: object"
      ]
     },
     "execution_count": 20,
     "metadata": {},
     "output_type": "execute_result"
    }
   ],
   "source": [
    "combi['text'].apply(text_process)"
   ]
  },
  {
   "cell_type": "code",
   "execution_count": 21,
   "metadata": {},
   "outputs": [],
   "source": [
    "from sklearn.feature_extraction.text import CountVectorizer"
   ]
  },
  {
   "cell_type": "code",
   "execution_count": 22,
   "metadata": {},
   "outputs": [
    {
     "name": "stdout",
     "output_type": "stream",
     "text": [
      "76219\n"
     ]
    }
   ],
   "source": [
    "bow_transformer = CountVectorizer(analyzer=text_process).fit(combi['text'])\n",
    "\n",
    "\n",
    "print(len(bow_transformer.vocabulary_))"
   ]
  },
  {
   "cell_type": "code",
   "execution_count": 23,
   "metadata": {},
   "outputs": [],
   "source": [
    "messages_bow = bow_transformer.transform(combi['text'])"
   ]
  },
  {
   "cell_type": "code",
   "execution_count": 24,
   "metadata": {},
   "outputs": [],
   "source": [
    "from sklearn.feature_extraction.text import TfidfTransformer\n",
    "\n",
    "tfidf_transformer = TfidfTransformer().fit(messages_bow)"
   ]
  },
  {
   "cell_type": "code",
   "execution_count": 25,
   "metadata": {},
   "outputs": [
    {
     "name": "stdout",
     "output_type": "stream",
     "text": [
      "(8203, 76219)\n"
     ]
    }
   ],
   "source": [
    "messages_tfidf = tfidf_transformer.transform(messages_bow)\n",
    "print(messages_tfidf.shape)"
   ]
  },
  {
   "cell_type": "code",
   "execution_count": 26,
   "metadata": {},
   "outputs": [],
   "source": [
    "from sklearn.linear_model import LogisticRegression\n",
    "from sklearn.model_selection import train_test_split\n",
    "from sklearn.metrics import f1_score"
   ]
  },
  {
   "cell_type": "code",
   "execution_count": 74,
   "metadata": {},
   "outputs": [],
   "source": [
    "train_bow = messages_bow[:5279,:]\n",
    "test_bow = messages_bow[5279:,:]"
   ]
  },
  {
   "cell_type": "code",
   "execution_count": 108,
   "metadata": {},
   "outputs": [],
   "source": [
    "xtrain, xtest, ytrain, ytest = train_test_split(train_bow, train['sentiment'],test_size=0.3)"
   ]
  },
  {
   "cell_type": "code",
   "execution_count": 76,
   "metadata": {},
   "outputs": [
    {
     "data": {
      "text/plain": [
       "0.18706060951867184"
      ]
     },
     "execution_count": 76,
     "metadata": {},
     "output_type": "execute_result"
    }
   ],
   "source": [
    "lreg = LogisticRegression()\n",
    "lreg.fit(xtrain, ytrain) \n",
    "\n",
    "prediction = lreg.predict_proba(xtest) \n",
    "prediction_int = prediction[:,1] >= 0.3 \n",
    "prediction_int = prediction_int.astype(np.int)\n",
    "\n",
    "f1_score(ytest, prediction_int,average = 'macro')"
   ]
  },
  {
   "cell_type": "code",
   "execution_count": 77,
   "metadata": {},
   "outputs": [],
   "source": [
    "test_pred = lreg.predict_proba(test_bow)\n",
    "test_pred_int = test_pred[:,1] >= 0.3\n",
    "test_pred_int = test_pred_int.astype(np.int)\n",
    "test['sentiment'] = test_pred_int\n",
    "submission = test[['unique_hash','sentiment']]\n",
    "submission.to_csv('inno_log.csv', index=False)"
   ]
  },
  {
   "cell_type": "code",
   "execution_count": 78,
   "metadata": {},
   "outputs": [],
   "source": [
    "from sklearn import svm"
   ]
  },
  {
   "cell_type": "code",
   "execution_count": 79,
   "metadata": {},
   "outputs": [
    {
     "data": {
      "text/plain": [
       "0.11641317935591405"
      ]
     },
     "execution_count": 79,
     "metadata": {},
     "output_type": "execute_result"
    }
   ],
   "source": [
    "svc = svm.SVC(kernel='linear', C=1, probability=True).fit(xtrain, ytrain)\n",
    "\n",
    "prediction = svc.predict_proba(xtest)\n",
    "prediction_int = prediction[:,1] >= 0.3\n",
    "prediction_int = prediction_int.astype(np.int)\n",
    "f1_score(ytest, prediction_int,average = 'macro')"
   ]
  },
  {
   "cell_type": "code",
   "execution_count": 80,
   "metadata": {},
   "outputs": [],
   "source": [
    "test_pred = svc.predict_proba(test_bow)\n",
    "test_pred_int = test_pred[:,1] >= 0.3\n",
    "test_pred_int = test_pred_int.astype(np.int)\n",
    "test['sentiment'] = test_pred_int\n",
    "submission = test[['unique_hash','sentiment']]\n",
    "submission.to_csv('nlp_svm.csv', index=False)"
   ]
  },
  {
   "cell_type": "code",
   "execution_count": 81,
   "metadata": {},
   "outputs": [],
   "source": [
    "from sklearn.ensemble import RandomForestClassifier"
   ]
  },
  {
   "cell_type": "code",
   "execution_count": 82,
   "metadata": {},
   "outputs": [
    {
     "data": {
      "text/plain": [
       "0.3212864934025118"
      ]
     },
     "execution_count": 82,
     "metadata": {},
     "output_type": "execute_result"
    }
   ],
   "source": [
    "rf = RandomForestClassifier().fit(xtrain, ytrain)\n",
    "\n",
    "prediction = rf.predict(xtest)\n",
    "f1_score(ytest, prediction,average = 'macro')"
   ]
  },
  {
   "cell_type": "code",
   "execution_count": 83,
   "metadata": {},
   "outputs": [],
   "source": [
    "test_pred = rf.predict(test_bow)\n",
    "test['sentiment'] = test_pred\n",
    "submission = test[['unique_hash','sentiment']]\n",
    "submission.to_csv('inno_rf.csv', index=False)"
   ]
  },
  {
   "cell_type": "code",
   "execution_count": 84,
   "metadata": {},
   "outputs": [],
   "source": [
    "from sklearn.naive_bayes import MultinomialNB\n",
    "mnb = MultinomialNB().fit(xtrain,ytrain)"
   ]
  },
  {
   "cell_type": "code",
   "execution_count": 85,
   "metadata": {},
   "outputs": [
    {
     "data": {
      "text/plain": [
       "0.354584692627304"
      ]
     },
     "execution_count": 85,
     "metadata": {},
     "output_type": "execute_result"
    }
   ],
   "source": [
    "prediction = mnb.predict(xtest)\n",
    "f1_score(ytest,prediction,average = 'macro')"
   ]
  },
  {
   "cell_type": "code",
   "execution_count": 86,
   "metadata": {},
   "outputs": [],
   "source": [
    "test_pred = mnb.predict(test_bow)\n",
    "test['sentiment'] = test_pred\n",
    "submission = test[['unique_hash','sentiment']]\n",
    "submission.to_csv('inno_mnb.csv', index=False)"
   ]
  },
  {
   "cell_type": "code",
   "execution_count": 105,
   "metadata": {},
   "outputs": [],
   "source": [
    "from sklearn.ensemble import AdaBoostClassifier"
   ]
  },
  {
   "cell_type": "code",
   "execution_count": 117,
   "metadata": {},
   "outputs": [],
   "source": [
    "clf = AdaBoostClassifier(base_estimator = mnb)"
   ]
  },
  {
   "cell_type": "code",
   "execution_count": 118,
   "metadata": {},
   "outputs": [
    {
     "data": {
      "text/plain": [
       "AdaBoostClassifier(algorithm='SAMME.R',\n",
       "          base_estimator=MultinomialNB(alpha=1.0, class_prior=None, fit_prior=True),\n",
       "          learning_rate=1.0, n_estimators=50, random_state=None)"
      ]
     },
     "execution_count": 118,
     "metadata": {},
     "output_type": "execute_result"
    }
   ],
   "source": [
    "clf.fit(xtrain,ytrain)"
   ]
  },
  {
   "cell_type": "code",
   "execution_count": 119,
   "metadata": {},
   "outputs": [
    {
     "data": {
      "text/plain": [
       "0.28540604373774175"
      ]
     },
     "execution_count": 119,
     "metadata": {},
     "output_type": "execute_result"
    }
   ],
   "source": [
    "prediction = clf.predict(xtest)\n",
    "f1_score(ytest,prediction,average = 'macro')"
   ]
  },
  {
   "cell_type": "code",
   "execution_count": 111,
   "metadata": {},
   "outputs": [],
   "source": [
    "test_pred = clf.predict(test_bow)\n",
    "test['sentiment'] = test_pred\n",
    "submission = test[['unique_hash','sentiment']]\n",
    "submission.to_csv('inno_ada.csv', index=False)"
   ]
  },
  {
   "cell_type": "code",
   "execution_count": 149,
   "metadata": {},
   "outputs": [],
   "source": [
    "train_tfidf = messages_tfidf[:5279,:]\n",
    "test_tfidf = messages_tfidf[5279:,:]"
   ]
  },
  {
   "cell_type": "code",
   "execution_count": 150,
   "metadata": {},
   "outputs": [],
   "source": [
    "xtrain, xtest, ytrain, ytest = train_test_split(train_tfidf, train['sentiment'],test_size=0.3)"
   ]
  },
  {
   "cell_type": "code",
   "execution_count": 151,
   "metadata": {},
   "outputs": [
    {
     "data": {
      "text/plain": [
       "0.15779717125679238"
      ]
     },
     "execution_count": 151,
     "metadata": {},
     "output_type": "execute_result"
    }
   ],
   "source": [
    "lreg = LogisticRegression()\n",
    "lreg.fit(xtrain, ytrain) \n",
    "\n",
    "prediction = lreg.predict_proba(xtest) \n",
    "prediction_int = prediction[:,1] >= 0.3 \n",
    "prediction_int = prediction_int.astype(np.int)\n",
    "\n",
    "f1_score(ytest, prediction_int,average = 'macro')"
   ]
  },
  {
   "cell_type": "code",
   "execution_count": 152,
   "metadata": {},
   "outputs": [
    {
     "data": {
      "text/plain": [
       "0.19040844479679586"
      ]
     },
     "execution_count": 152,
     "metadata": {},
     "output_type": "execute_result"
    }
   ],
   "source": [
    "svc = svm.SVC(kernel='linear', C=1, probability=True).fit(xtrain, ytrain)\n",
    "\n",
    "prediction = svc.predict_proba(xtest)\n",
    "prediction_int = prediction[:,1] >= 0.3\n",
    "prediction_int = prediction_int.astype(np.int)\n",
    "f1_score(ytest, prediction_int,average = 'macro')"
   ]
  },
  {
   "cell_type": "code",
   "execution_count": 153,
   "metadata": {},
   "outputs": [
    {
     "data": {
      "text/plain": [
       "0.34035924085056385"
      ]
     },
     "execution_count": 153,
     "metadata": {},
     "output_type": "execute_result"
    }
   ],
   "source": [
    "rf = RandomForestClassifier().fit(xtrain, ytrain)\n",
    "\n",
    "prediction = rf.predict(xtest)\n",
    "f1_score(ytest, prediction,average = 'macro')"
   ]
  },
  {
   "cell_type": "code",
   "execution_count": 154,
   "metadata": {},
   "outputs": [],
   "source": [
    "test_pred = rf.predict(test_bow)\n",
    "test['sentiment'] = test_pred\n",
    "submission = test[['unique_hash','sentiment']]\n",
    "submission.to_csv('inno_rf_tfidf.csv', index=False)"
   ]
  },
  {
   "cell_type": "code",
   "execution_count": 155,
   "metadata": {},
   "outputs": [
    {
     "data": {
      "text/plain": [
       "0.2792858889704084"
      ]
     },
     "execution_count": 155,
     "metadata": {},
     "output_type": "execute_result"
    }
   ],
   "source": [
    "mnb = MultinomialNB().fit(xtrain,ytrain)\n",
    "\n",
    "prediction = mnb.predict(xtest)\n",
    "f1_score(ytest,prediction,average = 'macro')"
   ]
  },
  {
   "cell_type": "code",
   "execution_count": 156,
   "metadata": {},
   "outputs": [],
   "source": [
    "clf = AdaBoostClassifier()"
   ]
  },
  {
   "cell_type": "code",
   "execution_count": 157,
   "metadata": {},
   "outputs": [
    {
     "data": {
      "text/plain": [
       "AdaBoostClassifier(algorithm='SAMME.R', base_estimator=None,\n",
       "          learning_rate=1.0, n_estimators=50, random_state=None)"
      ]
     },
     "execution_count": 157,
     "metadata": {},
     "output_type": "execute_result"
    }
   ],
   "source": [
    "clf.fit(xtrain,ytrain)"
   ]
  },
  {
   "cell_type": "code",
   "execution_count": 158,
   "metadata": {},
   "outputs": [
    {
     "data": {
      "text/plain": [
       "0.400147233703958"
      ]
     },
     "execution_count": 158,
     "metadata": {},
     "output_type": "execute_result"
    }
   ],
   "source": [
    "prediction = clf.predict(xtest)\n",
    "f1_score(ytest,prediction,average = 'macro')"
   ]
  },
  {
   "cell_type": "code",
   "execution_count": 159,
   "metadata": {},
   "outputs": [],
   "source": [
    "test_pred = clf.predict(test_bow)\n",
    "test['sentiment'] = test_pred\n",
    "submission = test[['unique_hash','sentiment']]\n",
    "submission.to_csv('inno_ada_tfidf.csv', index=False)"
   ]
  },
  {
   "cell_type": "code",
   "execution_count": 132,
   "metadata": {},
   "outputs": [
    {
     "name": "stdout",
     "output_type": "stream",
     "text": [
      "47960\n"
     ]
    }
   ],
   "source": [
    "bow_transformer = CountVectorizer().fit(combi['text'])\n",
    "\n",
    "\n",
    "print(len(bow_transformer.vocabulary_))"
   ]
  },
  {
   "cell_type": "code",
   "execution_count": 133,
   "metadata": {},
   "outputs": [],
   "source": [
    "messages_bow = bow_transformer.transform(combi['text'])"
   ]
  },
  {
   "cell_type": "code",
   "execution_count": 134,
   "metadata": {},
   "outputs": [],
   "source": [
    "tfidf_transformer = TfidfTransformer().fit(messages_bow)"
   ]
  },
  {
   "cell_type": "code",
   "execution_count": 135,
   "metadata": {},
   "outputs": [
    {
     "name": "stdout",
     "output_type": "stream",
     "text": [
      "(8203, 47960)\n"
     ]
    }
   ],
   "source": [
    "messages_tfidf = tfidf_transformer.transform(messages_bow)\n",
    "print(messages_tfidf.shape)"
   ]
  },
  {
   "cell_type": "code",
   "execution_count": 136,
   "metadata": {},
   "outputs": [],
   "source": [
    "train_bow = messages_bow[:5279,:]\n",
    "test_bow = messages_bow[5279:,:]"
   ]
  },
  {
   "cell_type": "code",
   "execution_count": 137,
   "metadata": {},
   "outputs": [],
   "source": [
    "xtrain, xtest, ytrain, ytest = train_test_split(train_bow, train['sentiment'],test_size=0.3)"
   ]
  },
  {
   "cell_type": "code",
   "execution_count": 138,
   "metadata": {},
   "outputs": [
    {
     "data": {
      "text/plain": [
       "0.18548392563594152"
      ]
     },
     "execution_count": 138,
     "metadata": {},
     "output_type": "execute_result"
    }
   ],
   "source": [
    "lreg = LogisticRegression()\n",
    "lreg.fit(xtrain, ytrain) \n",
    "\n",
    "prediction = lreg.predict_proba(xtest) \n",
    "prediction_int = prediction[:,1] >= 0.3 \n",
    "prediction_int = prediction_int.astype(np.int)\n",
    "\n",
    "f1_score(ytest, prediction_int,average = 'macro')"
   ]
  },
  {
   "cell_type": "code",
   "execution_count": 139,
   "metadata": {},
   "outputs": [],
   "source": [
    "test_pred = lreg.predict_proba(test_bow)\n",
    "test_pred_int = test_pred[:,1] >= 0.3\n",
    "test_pred_int = test_pred_int.astype(np.int)\n",
    "test['sentiment'] = test_pred_int\n",
    "submission = test[['unique_hash','sentiment']]\n",
    "submission.to_csv('inno_log.csv', index=False)"
   ]
  },
  {
   "cell_type": "code",
   "execution_count": 140,
   "metadata": {},
   "outputs": [
    {
     "data": {
      "text/plain": [
       "0.09434427057041898"
      ]
     },
     "execution_count": 140,
     "metadata": {},
     "output_type": "execute_result"
    }
   ],
   "source": [
    "svc = svm.SVC(kernel='linear', C=1, probability=True).fit(xtrain, ytrain)\n",
    "\n",
    "prediction = svc.predict_proba(xtest)\n",
    "prediction_int = prediction[:,1] >= 0.3\n",
    "prediction_int = prediction_int.astype(np.int)\n",
    "f1_score(ytest, prediction_int,average = 'macro')"
   ]
  },
  {
   "cell_type": "code",
   "execution_count": 141,
   "metadata": {},
   "outputs": [
    {
     "data": {
      "text/plain": [
       "0.31716872150570824"
      ]
     },
     "execution_count": 141,
     "metadata": {},
     "output_type": "execute_result"
    }
   ],
   "source": [
    "rf = RandomForestClassifier().fit(xtrain, ytrain)\n",
    "\n",
    "prediction = rf.predict_proba(xtest)\n",
    "f1_score(ytest, prediction,average = 'macro')"
   ]
  },
  {
   "cell_type": "code",
   "execution_count": 143,
   "metadata": {},
   "outputs": [],
   "source": [
    "test_pred = rf.predict(test_bow)\n",
    "test['sentiment'] = test_pred\n",
    "submission = test[['unique_hash','sentiment']]\n",
    "submission.to_csv('inno_rf.csv', index=False)"
   ]
  },
  {
   "cell_type": "code",
   "execution_count": 145,
   "metadata": {},
   "outputs": [
    {
     "data": {
      "text/plain": [
       "0.40150693776681484"
      ]
     },
     "execution_count": 145,
     "metadata": {},
     "output_type": "execute_result"
    }
   ],
   "source": [
    "mnb = MultinomialNB().fit(xtrain,ytrain)\n",
    "\n",
    "prediction = mnb.predict(xtest)\n",
    "f1_score(ytest,prediction,average = 'macro')"
   ]
  },
  {
   "cell_type": "code",
   "execution_count": 146,
   "metadata": {},
   "outputs": [],
   "source": [
    "test_pred = mnb.predict(test_bow)\n",
    "test['sentiment'] = test_pred\n",
    "submission = test[['unique_hash','sentiment']]\n",
    "submission.to_csv('inno_mnb.csv', index=False)"
   ]
  },
  {
   "cell_type": "code",
   "execution_count": 147,
   "metadata": {},
   "outputs": [
    {
     "data": {
      "text/plain": [
       "0.358811267468099"
      ]
     },
     "execution_count": 147,
     "metadata": {},
     "output_type": "execute_result"
    }
   ],
   "source": [
    "clf = AdaBoostClassifier().fit(xtrain,ytrain)\n",
    "\n",
    "prediction = clf.predict(xtest)\n",
    "f1_score(ytest,prediction,average = 'macro')"
   ]
  },
  {
   "cell_type": "code",
   "execution_count": 148,
   "metadata": {},
   "outputs": [],
   "source": [
    "test_pred = clf.predict(test_bow)\n",
    "test['sentiment'] = test_pred\n",
    "submission = test[['unique_hash','sentiment']]\n",
    "submission.to_csv('inno_ada.csv', index=False)"
   ]
  },
  {
   "cell_type": "code",
   "execution_count": 169,
   "metadata": {},
   "outputs": [],
   "source": [
    "pipeline = Pipeline([\n",
    "    ('bow', CountVectorizer(analyzer=text_process)),  # strings to token integer counts\n",
    "    ('tfidf', TfidfTransformer()),  # integer counts to weighted TF-IDF scores\n",
    "    ('classifier', AdaBoostClassifier()),  # train on TF-IDF vectors w/ Naive Bayes classifier\n",
    "])"
   ]
  },
  {
   "cell_type": "code",
   "execution_count": 161,
   "metadata": {},
   "outputs": [],
   "source": [
    "xtrain, xtest, ytrain, ytest = train_test_split(train['text'], train['sentiment'],test_size=0.3)"
   ]
  },
  {
   "cell_type": "code",
   "execution_count": 170,
   "metadata": {},
   "outputs": [
    {
     "data": {
      "text/plain": [
       "Pipeline(memory=None,\n",
       "     steps=[('bow', CountVectorizer(analyzer=<function text_process at 0x000000000C3FB598>,\n",
       "        binary=False, decode_error='strict', dtype=<class 'numpy.int64'>,\n",
       "        encoding='utf-8', input='content', lowercase=True, max_df=1.0,\n",
       "        max_features=None, min_df=1, ngram_range=(1, 1), preprocesso...m='SAMME.R', base_estimator=None,\n",
       "          learning_rate=1.0, n_estimators=50, random_state=None))])"
      ]
     },
     "execution_count": 170,
     "metadata": {},
     "output_type": "execute_result"
    }
   ],
   "source": [
    "pipeline.fit(xtrain,ytrain)"
   ]
  },
  {
   "cell_type": "code",
   "execution_count": 171,
   "metadata": {},
   "outputs": [
    {
     "data": {
      "text/plain": [
       "0.3886708184140151"
      ]
     },
     "execution_count": 171,
     "metadata": {},
     "output_type": "execute_result"
    }
   ],
   "source": [
    "prediction = pipeline.predict(xtest)\n",
    "f1_score(ytest,prediction,average = 'macro')"
   ]
  },
  {
   "cell_type": "code",
   "execution_count": 172,
   "metadata": {},
   "outputs": [],
   "source": [
    "test_pred = clf.predict(test_bow)\n",
    "test['sentiment'] = test_pred\n",
    "submission = test[['unique_hash','sentiment']]\n",
    "submission.to_csv('inno_pipe.csv', index=False)"
   ]
  },
  {
   "cell_type": "code",
   "execution_count": 173,
   "metadata": {},
   "outputs": [],
   "source": [
    "test_pred = clf.predict(test_tfidf)\n",
    "test['sentiment'] = test_pred\n",
    "submission = test[['unique_hash','sentiment']]\n",
    "submission.to_csv('inno_pipe.csv', index=False)"
   ]
  },
  {
   "cell_type": "code",
   "execution_count": null,
   "metadata": {},
   "outputs": [],
   "source": []
  }
 ],
 "metadata": {
  "kernelspec": {
   "display_name": "Python 3",
   "language": "python",
   "name": "python3"
  },
  "language_info": {
   "codemirror_mode": {
    "name": "ipython",
    "version": 3
   },
   "file_extension": ".py",
   "mimetype": "text/x-python",
   "name": "python",
   "nbconvert_exporter": "python",
   "pygments_lexer": "ipython3",
   "version": "3.6.5"
  }
 },
 "nbformat": 4,
 "nbformat_minor": 2
}
